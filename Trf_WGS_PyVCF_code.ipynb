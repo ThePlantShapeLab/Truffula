{
 "cells": [
  {
   "cell_type": "code",
   "execution_count": 4,
   "id": "1da44341",
   "metadata": {},
   "outputs": [
    {
     "name": "stdout",
     "output_type": "stream",
     "text": [
      "/Users/aricha14/Documents/Databases/Software/PyVCF-master\n"
     ]
    }
   ],
   "source": [
    "cd '/Users/aricha14/Documents/Databases/Software/PyVCF-master'"
   ]
  },
  {
   "cell_type": "code",
   "execution_count": 22,
   "id": "881da03c",
   "metadata": {},
   "outputs": [
    {
     "name": "stdout",
     "output_type": "stream",
     "text": [
      "\u001b[31mLICENSE\u001b[m\u001b[m*      \u001b[31mREADME.rst\u001b[m\u001b[m*   \u001b[34mrequirements\u001b[m\u001b[m/ \u001b[31msetup.py\u001b[m\u001b[m*     \u001b[34mvcf\u001b[m\u001b[m/\r\n",
      "\u001b[31mMANIFEST.in\u001b[m\u001b[m*  \u001b[34mdocs\u001b[m\u001b[m/         \u001b[34mscripts\u001b[m\u001b[m/      \u001b[31mtox.ini\u001b[m\u001b[m*\r\n"
     ]
    }
   ],
   "source": [
    "ls"
   ]
  },
  {
   "cell_type": "code",
   "execution_count": 3,
   "id": "c6e521f4",
   "metadata": {},
   "outputs": [],
   "source": [
    "import vcf"
   ]
  },
  {
   "cell_type": "code",
   "execution_count": 5,
   "id": "0670144f",
   "metadata": {},
   "outputs": [
    {
     "name": "stdout",
     "output_type": "stream",
     "text": [
      "Collecting pyvcf\n",
      "  Using cached PyVCF-0.6.8.tar.gz (34 kB)\n",
      "  Preparing metadata (setup.py) ... \u001b[?25ldone\n",
      "\u001b[?25hRequirement already satisfied: setuptools in /Library/Frameworks/Python.framework/Versions/3.7/lib/python3.7/site-packages (from pyvcf) (40.8.0)\n",
      "Using legacy 'setup.py install' for pyvcf, since package 'wheel' is not installed.\n",
      "Installing collected packages: pyvcf\n",
      "  Running setup.py install for pyvcf ... \u001b[?25ldone\n",
      "\u001b[?25hSuccessfully installed pyvcf-0.6.8\n",
      "Note: you may need to restart the kernel to use updated packages.\n"
     ]
    }
   ],
   "source": [
    "%pip install pyvcf\n"
   ]
  },
  {
   "cell_type": "code",
   "execution_count": 2,
   "id": "ff8a23db",
   "metadata": {},
   "outputs": [],
   "source": [
    "import vcf"
   ]
  },
  {
   "cell_type": "code",
   "execution_count": 4,
   "id": "f9ea18bb",
   "metadata": {},
   "outputs": [],
   "source": [
    "#Use PyVCF to pull data from the .vcf variant files downloaded from CYVERSE (software is already installed- see jupyter notebook for the Hoja WGS May 2019 Bash code)\n",
    "wt_file = \"/Users/aricha14/Documents/Research_Projects/TRF_Project/WGS/WGS_Alignment_NAM5_May2022/variant_calls/TrfM6_WGS_NAM5_mpileup.vcf\"\n",
    "mut_file = \"/Users/aricha14/Documents/Research_Projects/TRF_Project/WGS/WGS_Alignment_NAM5_May2022/TrfM6_WGS_NAM5_mpileup_Dec2022.vcf\"\n",
    "output_dir = \"/Users/aricha14/Documents/Research_Projects/TRF_Project/WGS/WGS_Alignment_NAM5_May2022\"\n",
    "with open(\"/Users/aricha14/Documents/Research_Projects/TRF_Project/WGS/WGS_Alignment_NAM5_May2022/TrfM6_WGS_NAM5_mpileup_Dec2022.txt\", 'w') as outfile:\n",
    "\n",
    "    vcf_reader = vcf.VCFReader(open(mut_file,'r'))\n",
    "    \n",
    "    header = \"CHROM\\tPOS\\tREF\\tALT\\tQUAL\\tAF\\tDP\\t\\n\"\n",
    "    outfile.write(header)\n",
    "    \n",
    "    for rec in vcf_reader:\n",
    "        chrom = rec.CHROM \n",
    "\n",
    "\n",
    "        pos = rec.POS \n",
    "        ref = rec.REF \n",
    "        alt = rec.ALT\n",
    "        qual = rec.QUAL\n",
    "\n",
    "        DP4 = rec.INFO['DP4']\n",
    "        ref_total = float(DP4[0] + DP4[1]) #add forward and reverse REF reads\n",
    "        alt_total = float(DP4[2] + DP4[3]) #add forward and reverse ALT reads\n",
    "        AF = alt_total/(ref_total + alt_total) #calculate alt allele freq\n",
    "        DP = ref_total + alt_total #calculate effective depth\n",
    "\n",
    "        record = [chrom, pos, ref, alt, qual, AF, DP, \"\\n\"]\n",
    "        line = \"\\t\".join(map(str, record))\n",
    "        outfile.write(line)"
   ]
  },
  {
   "cell_type": "code",
   "execution_count": 9,
   "id": "82e40c98",
   "metadata": {},
   "outputs": [],
   "source": [
    "# NOTE: need to use non zipped version of th evcf file to do this\n",
    "#Use PyVCF to pull data from the .vcf variant files downloaded from CYVERSE (software is already installed- see jupyter notebook for the Hoja WGS May 2019 Bash code)\n",
    "wt_file = \"/Users/aricha14/Documents/Research_Projects/TRF_Project/WGS/WGS_Alignment_NAM5_May2022/variant_calls/TrfN5_WGS_NAM5_mpileup.vcf\"\n",
    "#mut_file = \"/Users/aricha14/Documents/Research_Projects/TRF_Project/WGS/TrfM6_B73v3_variants.vcf\"\n",
    "output_dir = \"/Users/aricha14/Documents/Research_Projects/TRF_Project/WGS/WGS_Alignment_NAM5_May2022\"\n",
    "with open(\"/Users/aricha14/Documents/Research_Projects/TRF_Project/WGS/WGS_Alignment_NAM5_May2022/TrfN5_WGS_NAM5_mpileup.txt\", 'w') as outfile:\n",
    "\n",
    "    vcf_reader = vcf.VCFReader(open(wt_file,'r'))\n",
    "    \n",
    "    header = \"CHROM\\tPOS\\tREF\\tALT\\tQUAL\\tAF\\tDP\\t\\n\"\n",
    "    outfile.write(header)\n",
    "    \n",
    "    for rec in vcf_reader:\n",
    "        chrom = rec.CHROM \n",
    "\n",
    "\n",
    "        pos = rec.POS \n",
    "        ref = rec.REF \n",
    "        alt = rec.ALT\n",
    "        qual = rec.QUAL\n",
    "\n",
    "        DP4 = rec.INFO['DP4']\n",
    "        ref_total = float(DP4[0] + DP4[1]) #add forward and reverse REF reads\n",
    "        alt_total = float(DP4[2] + DP4[3]) #add forward and reverse ALT reads\n",
    "        AF = alt_total/(ref_total + alt_total) #calculate alt allele freq\n",
    "        DP = ref_total + alt_total #calculate effective depth\n",
    "\n",
    "        record = [chrom, pos, ref, alt, qual, AF, DP, \"\\n\"]\n",
    "        line = \"\\t\".join(map(str, record))\n",
    "        outfile.write(line)"
   ]
  },
  {
   "cell_type": "code",
   "execution_count": 29,
   "id": "55abc8f5",
   "metadata": {},
   "outputs": [],
   "source": [
    "# Use PyVCF to convert the snpeff .vcf files to .txt for R analysis \n",
    "\n",
    "file = \"/Users/aricha14/Documents/Research_Projects/TRF_Project/WGS/WGS_Alignment_NAM5_May2022/snpeff/TrfM6_WGS_NAM5_mpileup_Dec2022_snpeff_chr10_AD2toAD3_HIGHorMOD_EMS.vcf\"\n",
    "#mut_file = \"/Users/aricha14/Documents/Research_Projects/TRF_Project/WGS/TrfM6_B73v3_variants.vcf\"\n",
    "output_dir = \"/Users/aricha14/Documents/Research_Projects/TRF_Project/WGS/WGS_Alignment_NAM5_May2022/snpeff\"\n",
    "with open(\"/Users/aricha14/Documents/Research_Projects/TRF_Project/WGS/WGS_Alignment_NAM5_May2022/snpeff/TrfM6_WGS_NAM5_mpileup_Dec2022_snpeff_chr10_AD2toAD3_HIGHorMOD_EMS.ann.txt\", 'w') as outfile:\n",
    "\n",
    "    vcf_reader = vcf.VCFReader(open(file,'r'))\n",
    "    \n",
    "    header = \"CHROM\\tPOS\\tREF\\tALT\\tQUAL\\tAF\\tDP\\t\\n\"\n",
    "    outfile.write(header)\n",
    "    \n",
    "    for rec in vcf_reader:\n",
    "        chrom = rec.CHROM \n",
    "\n",
    "\n",
    "        pos = rec.POS \n",
    "        ref = rec.REF \n",
    "        alt = rec.ALT\n",
    "        qual = rec.QUAL\n",
    "\n",
    "        DP4 = rec.INFO['DP4']\n",
    "        ref_total = float(DP4[0] + DP4[1]) #add forward and reverse REF reads\n",
    "        alt_total = float(DP4[2] + DP4[3]) #add forward and reverse ALT reads\n",
    "        AF = alt_total/(ref_total + alt_total) #calculate alt allele freq\n",
    "        DP = ref_total + alt_total #calculate effective depth\n",
    "\n",
    "        record = [chrom, pos, ref, alt, qual, AF, DP, \"\\n\"]\n",
    "        line = \"\\t\".join(map(str, record))\n",
    "        outfile.write(line)"
   ]
  },
  {
   "cell_type": "code",
   "execution_count": 23,
   "id": "a5d09929",
   "metadata": {},
   "outputs": [],
   "source": [
    "# Use PyVCF to convert the snpeff .vcf files to .txt for R analysis \n",
    "\n",
    "file = \"/Users/aricha14/Documents/Research_Projects/TRF_Project/WGS/WGS_Alignment_NAM5_May2022/snpeff/TrfM6_WGS_NAM5_mpileup_Dec2022_snpeff_chr10_AD2toAD3.ann.vcf\"\n",
    "#mut_file = \"/Users/aricha14/Documents/Research_Projects/TRF_Project/WGS/TrfM6_B73v3_variants.vcf\"\n",
    "output_dir = \"/Users/aricha14/Documents/Research_Projects/TRF_Project/WGS/WGS_Alignment_NAM5_May2022/snpeff\"\n",
    "with open(\"/Users/aricha14/Documents/Research_Projects/TRF_Project/WGS/WGS_Alignment_NAM5_May2022/snpeff/TrfM6_WGS_NAM5_mpileup_Dec2022_snpeff_chr10_AD2toAD3_ann.txt\", 'w') as outfile:\n",
    "\n",
    "    vcf_reader = vcf.VCFReader(open(file,'r'))\n",
    "    \n",
    "    header = \"CHROM\\tPOS\\tREF\\tALT\\tQUAL\\tAF\\tDP\\tANNt\\n\"\n",
    "    outfile.write(header)\n",
    "    \n",
    "    for rec in vcf_reader:\n",
    "        chrom = rec.CHROM \n",
    "\n",
    "\n",
    "        pos = rec.POS \n",
    "        ref = rec.REF \n",
    "        alt = rec.ALT\n",
    "        qual = rec.QUAL\n",
    "\n",
    "        DP4 = rec.INFO['DP4']\n",
    "        ref_total = float(DP4[0] + DP4[1]) #add forward and reverse REF reads\n",
    "        alt_total = float(DP4[2] + DP4[3]) #add forward and reverse ALT reads\n",
    "        AF = alt_total/(ref_total + alt_total) #calculate alt allele freq\n",
    "        DP = ref_total + alt_total #calculate effective depth\n",
    "        \n",
    "\n",
    "\n",
    "        record = [chrom, pos, ref, alt, qual, AF, DP, ANN,\"\\n\"]\n",
    "        line = \"\\t\".join(map(str, record))\n",
    "        outfile.write(line)"
   ]
  }
 ],
 "metadata": {
  "kernelspec": {
   "display_name": "Python 3 (ipykernel)",
   "language": "python",
   "name": "python3"
  },
  "language_info": {
   "codemirror_mode": {
    "name": "ipython",
    "version": 3
   },
   "file_extension": ".py",
   "mimetype": "text/x-python",
   "name": "python",
   "nbconvert_exporter": "python",
   "pygments_lexer": "ipython3",
   "version": "3.7.4"
  }
 },
 "nbformat": 4,
 "nbformat_minor": 5
}
